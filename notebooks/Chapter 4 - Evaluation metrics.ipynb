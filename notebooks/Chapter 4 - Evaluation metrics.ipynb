{
 "cells": [
  {
   "cell_type": "code",
   "execution_count": 3,
   "metadata": {},
   "outputs": [],
   "source": [
    "def accuracy(y_true, y_pred): \n",
    "    \"\"\"\n",
    "    Function to calculate accuracy\n",
    "    :param y_true: list of true values\n",
    "    :param y_pred: list of predicted values\n",
    "    :return: accuracy score\n",
    "    \"\"\"\n",
    "    # initialize a simple counter for correct predictions \n",
    "    correct_counter = 0\n",
    "    # loop over all elements of y_true\n",
    "    # and y_pred \"together\"\n",
    "    for yt, yp in zip(y_true, y_pred):\n",
    "        if yt == yp:\n",
    "            # if prediction is equal to truth, increase the counter \n",
    "            correct_counter += 1\n",
    "    # return accuracy\n",
    "    # which is correct predictions over the number of samples \n",
    "    return correct_counter / len(y_true)"
   ]
  },
  {
   "cell_type": "code",
   "execution_count": 4,
   "metadata": {},
   "outputs": [
    {
     "data": {
      "text/plain": [
       "0.625"
      ]
     },
     "execution_count": 4,
     "metadata": {},
     "output_type": "execute_result"
    }
   ],
   "source": [
    "from sklearn import metrics\n",
    "l1 = [0,1,1,1,0,0,0,1]\n",
    "l2 = [0,1,0,1,0,1,0,0]\n",
    "metrics.accuracy_score(l1, l2)"
   ]
  },
  {
   "cell_type": "code",
   "execution_count": 5,
   "metadata": {},
   "outputs": [],
   "source": [
    "def true_positive(y_true, y_pred): \n",
    "    \"\"\"\n",
    "    Function to calculate True Positives :param y_true: list of true values :param y_pred: list of predicted values :return: number of true positives\n",
    "    \"\"\"\n",
    "    # initialize\n",
    "    tp = 0\n",
    "    for yt, yp in zip(y_true, y_pred):\n",
    "        if yt == 1 and yp == 1: \n",
    "            tp += 1\n",
    "    return tp"
   ]
  },
  {
   "cell_type": "code",
   "execution_count": 6,
   "metadata": {},
   "outputs": [],
   "source": [
    "def true_negative(y_true, y_pred): \n",
    "    \"\"\"\n",
    "    Function to calculate True Negatives :param y_true: list of true values :param y_pred: list of predicted values :return: number of true negatives\n",
    "    \"\"\"\n",
    "    # initialize\n",
    "    tn = 0\n",
    "    for yt, yp in zip(y_true, y_pred):\n",
    "        if yt == 0 and yp == 0: \n",
    "            tn += 1\n",
    "    return tn"
   ]
  },
  {
   "cell_type": "code",
   "execution_count": 7,
   "metadata": {},
   "outputs": [],
   "source": [
    "\n",
    "def false_positive(y_true, y_pred): \n",
    "    \"\"\"\n",
    "    Function to calculate False Positives :param y_true: list of true values :param y_pred: list of predicted values :return: number of false positives\n",
    "    \"\"\"\n",
    "    # initialize\n",
    "    fp = 0\n",
    "    for yt, yp in zip(y_true, y_pred):\n",
    "        if yt == 0 and yp == 1: \n",
    "            fp += 1\n",
    "    return fp"
   ]
  },
  {
   "cell_type": "code",
   "execution_count": 8,
   "metadata": {},
   "outputs": [],
   "source": [
    "def false_negative(y_true, y_pred): \n",
    "    \"\"\"\n",
    "    Function to calculate False Negatives :param y_true: list of true values :param y_pred: list of predicted values :return: number of false negatives\n",
    "    \"\"\"\n",
    "    # initialize\n",
    "    fn = 0\n",
    "    for yt, yp in zip(y_true, y_pred):\n",
    "        if yt == 1 and yp == 0: \n",
    "            fn += 1\n",
    "    return fn"
   ]
  },
  {
   "cell_type": "code",
   "execution_count": 9,
   "metadata": {},
   "outputs": [],
   "source": [
    "l1 = [0,1,1,1,0,0,0,1] \n",
    "l2 = [0,1,0,1,0,1,0,0]"
   ]
  },
  {
   "cell_type": "code",
   "execution_count": 10,
   "metadata": {},
   "outputs": [
    {
     "data": {
      "text/plain": [
       "2"
      ]
     },
     "execution_count": 10,
     "metadata": {},
     "output_type": "execute_result"
    }
   ],
   "source": [
    "true_positive(l1, l2)"
   ]
  },
  {
   "cell_type": "code",
   "execution_count": 11,
   "metadata": {},
   "outputs": [
    {
     "data": {
      "text/plain": [
       "1"
      ]
     },
     "execution_count": 11,
     "metadata": {},
     "output_type": "execute_result"
    }
   ],
   "source": [
    "false_positive(l1, l2)"
   ]
  },
  {
   "cell_type": "code",
   "execution_count": 12,
   "metadata": {},
   "outputs": [
    {
     "data": {
      "text/plain": [
       "2"
      ]
     },
     "execution_count": 12,
     "metadata": {},
     "output_type": "execute_result"
    }
   ],
   "source": [
    "false_negative(l1, l2)"
   ]
  },
  {
   "cell_type": "code",
   "execution_count": 13,
   "metadata": {},
   "outputs": [
    {
     "data": {
      "text/plain": [
       "3"
      ]
     },
     "execution_count": 13,
     "metadata": {},
     "output_type": "execute_result"
    }
   ],
   "source": [
    "true_negative(l1, l2)"
   ]
  },
  {
   "cell_type": "code",
   "execution_count": 14,
   "metadata": {},
   "outputs": [],
   "source": [
    "def accuracy_v2(y_true, y_pred):\n",
    "    \"\"\"\n",
    "    Function to calculate accuracy using tp/tn/fp/fn :param y_true: list of true values\n",
    "    :param y_pred: list of predicted values\n",
    "    :return: accuracy score\n",
    "    \"\"\"\n",
    "    tp = true_positive(y_true, y_pred)\n",
    "    fp = false_positive(y_true, y_pred)\n",
    "    fn = false_negative(y_true, y_pred)\n",
    "    tn = true_negative(y_true, y_pred) \n",
    "    accuracy_score = (tp + tn) / (tp + tn + fp + fn) \n",
    "    return accuracy_score"
   ]
  },
  {
   "cell_type": "code",
   "execution_count": 15,
   "metadata": {},
   "outputs": [],
   "source": [
    "l1 = [0,1,1,1,0,0,0,1] \n",
    "l2 = [0,1,0,1,0,1,0,0]"
   ]
  },
  {
   "cell_type": "code",
   "execution_count": 16,
   "metadata": {},
   "outputs": [
    {
     "data": {
      "text/plain": [
       "0.625"
      ]
     },
     "execution_count": 16,
     "metadata": {},
     "output_type": "execute_result"
    }
   ],
   "source": [
    "accuracy(l1, l2)"
   ]
  },
  {
   "cell_type": "code",
   "execution_count": 17,
   "metadata": {},
   "outputs": [
    {
     "data": {
      "text/plain": [
       "0.625"
      ]
     },
     "execution_count": 17,
     "metadata": {},
     "output_type": "execute_result"
    }
   ],
   "source": [
    "accuracy_v2(l1, l2)"
   ]
  },
  {
   "cell_type": "code",
   "execution_count": 18,
   "metadata": {},
   "outputs": [
    {
     "data": {
      "text/plain": [
       "0.625"
      ]
     },
     "execution_count": 18,
     "metadata": {},
     "output_type": "execute_result"
    }
   ],
   "source": [
    "metrics.accuracy_score(l1, l2)"
   ]
  },
  {
   "cell_type": "code",
   "execution_count": 19,
   "metadata": {},
   "outputs": [],
   "source": [
    "def precision(y_true, y_pred):\n",
    "    \"\"\"\n",
    "    Function to calculate precision\n",
    "    :param y_true: list of true values :param y_pred: list of predicted values :return: precision score\n",
    "    \"\"\"\n",
    "    tp = true_positive(y_true, y_pred)\n",
    "    fp = false_positive(y_true, y_pred) \n",
    "    precision = tp / (tp + fp)\n",
    "    return precision"
   ]
  },
  {
   "cell_type": "code",
   "execution_count": 20,
   "metadata": {},
   "outputs": [],
   "source": [
    "l1 = [0,1,1,1,0,0,0,1] \n",
    "l2 = [0,1,0,1,0,1,0,0]"
   ]
  },
  {
   "cell_type": "code",
   "execution_count": 21,
   "metadata": {},
   "outputs": [
    {
     "data": {
      "text/plain": [
       "0.6666666666666666"
      ]
     },
     "execution_count": 21,
     "metadata": {},
     "output_type": "execute_result"
    }
   ],
   "source": [
    "precision(l1, l2)"
   ]
  },
  {
   "cell_type": "code",
   "execution_count": 22,
   "metadata": {},
   "outputs": [],
   "source": [
    "def recall(y_true, y_pred):\n",
    "    \"\"\"\n",
    "    Function to calculate recall\n",
    "    :param y_true: list of true values :param y_pred: list of predicted values :return: recall score\n",
    "    \"\"\"\n",
    "    tp = true_positive(y_true, y_pred)\n",
    "    fn = false_negative(y_true, y_pred) \n",
    "    recall = tp / (tp + fn)\n",
    "    return recall"
   ]
  },
  {
   "cell_type": "code",
   "execution_count": 23,
   "metadata": {},
   "outputs": [],
   "source": [
    "l1 = [0,1,1,1,0,0,0,1] \n",
    "l2 = [0,1,0,1,0,1,0,0]"
   ]
  },
  {
   "cell_type": "code",
   "execution_count": 24,
   "metadata": {},
   "outputs": [
    {
     "data": {
      "text/plain": [
       "0.5"
      ]
     },
     "execution_count": 24,
     "metadata": {},
     "output_type": "execute_result"
    }
   ],
   "source": [
    "recall(l1, l2)"
   ]
  },
  {
   "cell_type": "markdown",
   "metadata": {},
   "source": [
    "For a “good” model, our precision and recall values should be high.\n",
    "\n",
    "We see that in the above example, the recall value is quite high. However, precision is very low!"
   ]
  },
  {
   "cell_type": "code",
   "execution_count": 25,
   "metadata": {},
   "outputs": [],
   "source": [
    "y_true = [0, 0, 0, 1, 0, 0, 0, 0, 0, 0, \n",
    "          1, 0, 0, 0, 0, 0, 0, 0, 1, 0]\n",
    "\n",
    "y_pred = [0.0263, 0.1111, 0.3162, 0.0490, \n",
    "          0.0191, 0.1755, 0.1595, 0.0381, \n",
    "          0.1163, 0.0793, 0.0858, 0.3909, \n",
    "          0.2725, 0.0344, 0.0464, 0.0354, \n",
    "          0.1852, 0.0593, 0.6197, 0.3305]"
   ]
  },
  {
   "cell_type": "code",
   "execution_count": 26,
   "metadata": {},
   "outputs": [],
   "source": [
    "\n",
    "precisions = []\n",
    "recalls = []\n",
    "thresholds = [0.04, 0.05, 0.07, \n",
    "               0.08, 0.11, 0.15, \n",
    "               0.17, 0.18, 0.21, \n",
    "               0.27, 0.31, 0.33, \n",
    "               0.39, 0.61]\n",
    "\n",
    "for i in thresholds:\n",
    "  temp_prediction = [1 if x >= i else 0 for x in y_pred]\n",
    "  p = precision(y_true, temp_prediction)\n",
    "  r = recall(y_true, temp_prediction)\n",
    "  precisions.append(p)\n",
    "  recalls.append(r)"
   ]
  },
  {
   "cell_type": "code",
   "execution_count": 27,
   "metadata": {},
   "outputs": [
    {
     "data": {
      "text/plain": [
       "Text(0, 0.5, 'Precision')"
      ]
     },
     "execution_count": 27,
     "metadata": {},
     "output_type": "execute_result"
    },
    {
     "data": {
      "image/png": "[encoded data removed]",
      "text/plain": [
       "<Figure size 700x700 with 1 Axes>"
      ]
     },
     "metadata": {},
     "output_type": "display_data"
    }
   ],
   "source": [
    "\n",
    "import matplotlib.pyplot as plt\n",
    "\n",
    "plt.figure(figsize=(7,7))\n",
    "plt.plot(recalls, precisions)\n",
    "plt.xlabel('Recall', fontsize=15)\n",
    "plt.ylabel('Precision', fontsize=15)"
   ]
  },
  {
   "cell_type": "code",
   "execution_count": 28,
   "metadata": {},
   "outputs": [],
   "source": [
    "def f1(y_true, y_pred):\n",
    "    \"\"\"\n",
    "    Function to calculate f1 score\n",
    "    :param y_true: list of true values :param y_pred: list of predicted values :return: f1 score\n",
    "    \"\"\"\n",
    "    p = precision(y_true, y_pred)\n",
    "    r = recall(y_true, y_pred)\n",
    "    score = 2 * p * r / (p + r) \n",
    "    return score"
   ]
  },
  {
   "cell_type": "code",
   "execution_count": 29,
   "metadata": {},
   "outputs": [],
   "source": [
    "y_true = [0, 0, 0, 1, 0, 0, 0, 0, 0, 0, 1, 0, 0, 0, 0, 0, 0, 0, 1, 0]"
   ]
  },
  {
   "cell_type": "code",
   "execution_count": 30,
   "metadata": {},
   "outputs": [],
   "source": [
    "y_pred = [0, 0, 1, 0, 0, 0, 1, 0, 0, 0, 1, 0, 0, 0, 0, 0, 0, 0, 1, 0]"
   ]
  },
  {
   "cell_type": "code",
   "execution_count": 31,
   "metadata": {},
   "outputs": [
    {
     "data": {
      "text/plain": [
       "0.5714285714285715"
      ]
     },
     "execution_count": 31,
     "metadata": {},
     "output_type": "execute_result"
    }
   ],
   "source": [
    "f1(y_true, y_pred)"
   ]
  },
  {
   "cell_type": "code",
   "execution_count": 32,
   "metadata": {},
   "outputs": [],
   "source": [
    "from sklearn import metrics"
   ]
  },
  {
   "cell_type": "code",
   "execution_count": 33,
   "metadata": {},
   "outputs": [
    {
     "data": {
      "text/plain": [
       "0.5714285714285715"
      ]
     },
     "execution_count": 33,
     "metadata": {},
     "output_type": "execute_result"
    }
   ],
   "source": [
    "metrics.f1_score(y_true, y_pred)"
   ]
  },
  {
   "cell_type": "code",
   "execution_count": 34,
   "metadata": {},
   "outputs": [],
   "source": [
    "def tpr(y_true, y_pred):\n",
    "    \"\"\"\n",
    "    Function to calculate tpr\n",
    "    :param y_true: list of true values :param y_pred: list of predicted values :return: tpr/recall\n",
    "    \"\"\"\n",
    "    return recall(y_true, y_pred)"
   ]
  },
  {
   "cell_type": "code",
   "execution_count": 35,
   "metadata": {},
   "outputs": [],
   "source": [
    "def fpr(y_true, y_pred):\n",
    "    \"\"\"\n",
    "    Function to calculate fpr\n",
    "    :param y_true: list of true values :param y_pred: list of predicted values :return: fpr\n",
    "    \"\"\"\n",
    "    fp = false_positive(y_true, y_pred)\n",
    "    tn = true_negative(y_true, y_pred) \n",
    "    return fp / (tn + fp)"
   ]
  },
  {
   "cell_type": "code",
   "execution_count": 36,
   "metadata": {},
   "outputs": [],
   "source": [
    "\n",
    "tpr_list = []\n",
    "fpr_list = []\n",
    "\n",
    "y_true = [0, 0, 0, 0, 1, 0, 1,\n",
    "          0, 0, 1, 0, 1, 0, 0, 1]\n",
    "y_pred = [0.1, 0.3, 0.2, 0.6, 0.8, 0.05,\n",
    "          0.9, 0.5, 0.3, 0.66, 0.3, 0.2,\n",
    "          0.85, 0.15, 0.99]\n",
    "thresholds = [0, 0.1, 0.2, 0.3, 0.4, 0.5,\n",
    "              0.6, 0.7, 0.8, 0.85, 0.9, 0.99, 1.0]\n",
    "\n",
    "for thresh in thresholds:\n",
    "  temp_pred = [1 if x >= thresh else 0 for x in y_pred]\n",
    "  temp_tpr = tpr(y_true, temp_pred)\n",
    "  temp_fpr = fpr(y_true, temp_pred)\n",
    "  tpr_list.append(temp_tpr)\n",
    "  fpr_list.append(temp_fpr)"
   ]
  },
  {
   "cell_type": "code",
   "execution_count": 37,
   "metadata": {},
   "outputs": [
    {
     "data": {
      "image/png": "[encoded data removed]",
      "text/plain": [
       "<Figure size 700x700 with 1 Axes>"
      ]
     },
     "metadata": {},
     "output_type": "display_data"
    }
   ],
   "source": [
    "plt.figure(figsize=(7, 7))\n",
    "plt.fill_between(fpr_list, tpr_list, alpha=0.4)\n",
    "plt.plot(fpr_list, tpr_list, lw=3)\n",
    "plt.xlim(0, 1.0)\n",
    "plt.ylim(0, 1.0)\n",
    "plt.xlabel('FPR', fontsize=15)\n",
    "plt.ylabel('TPR', fontsize=15)\n",
    "plt.show()"
   ]
  },
  {
   "cell_type": "code",
   "execution_count": 38,
   "metadata": {},
   "outputs": [
    {
     "data": {
      "text/plain": [
       "0.8300000000000001"
      ]
     },
     "execution_count": 38,
     "metadata": {},
     "output_type": "execute_result"
    }
   ],
   "source": [
    "from sklearn import metrics\n",
    "y_true = [0, 0, 0, 0, 1, 0, 1,\n",
    "          0, 0, 1, 0, 1, 0, 0, 1]\n",
    "y_pred = [0.1, 0.3, 0.2, 0.6, 0.8, 0.05,\n",
    "          0.9, 0.5, 0.3, 0.66, 0.3, 0.2,\n",
    "          0.85, 0.15, 0.99]\n",
    "metrics.roc_auc_score(y_true, y_pred)"
   ]
  },
  {
   "cell_type": "code",
   "execution_count": 39,
   "metadata": {},
   "outputs": [],
   "source": [
    "# empty lists to store true positive # and false positive values\n",
    "tp_list = []\n",
    "fp_list = []\n",
    "# actual targets\n",
    "y_true = [0, 0, 0, 0, 1, 0, 1,\n",
    "0, 0, 1, 0, 1, 0, 0, 1]\n",
    "# predicted probabilities of a sample being 1\n",
    "y_pred = [0.1, 0.3, 0.2, 0.6, 0.8, 0.05, 0.9, 0.5, 0.3, 0.66, 0.3, 0.2,\n",
    "0.85, 0.15, 0.99]\n",
    "# some handmade thresholds\n",
    "thresholds = [0, 0.1, 0.2, 0.3, 0.4, 0.5,\n",
    "0.6, 0.7, 0.8, 0.85, 0.9, 0.99, 1.0]\n",
    "# loop over all thresholds\n",
    "for thresh in thresholds:\n",
    "    # calculate predictions for a given threshold\n",
    "    temp_pred = [1 if x >= thresh else 0 for x in y_pred] # calculate tp\n",
    "    temp_tp = true_positive(y_true, temp_pred)\n",
    "    # calculate fp\n",
    "    temp_fp = false_positive(y_true, temp_pred)\n",
    "    # append tp and fp to lists\n",
    "    tp_list.append(temp_tp)\n",
    "    fp_list.append(temp_fp)"
   ]
  },
  {
   "cell_type": "code",
   "execution_count": 40,
   "metadata": {},
   "outputs": [],
   "source": [
    "import numpy as np\n",
    "\n",
    "def log_loss(y_true, y_proba):\n",
    "  epsilon = 1e-15\n",
    "  loss = []\n",
    "  for yt, yp in zip(y_true, y_proba):\n",
    "    yp = np.clip(yp, epsilon, 1 - epsilon)\n",
    "    temp_loss = -1.0 * (\n",
    "        yt * np.log(yp)\n",
    "        + (1 - yt) * np.log(1 - yp)\n",
    "    )\n",
    "    loss.append(temp_loss)\n",
    "    \n",
    "  return np.mean(loss)"
   ]
  },
  {
   "cell_type": "code",
   "execution_count": 41,
   "metadata": {},
   "outputs": [],
   "source": [
    "\n",
    "import numpy as np\n",
    "\n",
    "def macro_precision(y_true, y_pred):\n",
    "  num_classes = len(np.unique(y_true))\n",
    "  precision = 0\n",
    "  for class_ in range(num_classes):\n",
    "    temp_true = [1 if p == class_ else 0 for p in y_true]\n",
    "    temp_pred = [1 if p == class_ else 0 for p in y_pred]\n",
    "\n",
    "    tp = true_positive(temp_true, temp_pred)\n",
    "    fp = false_positive(temp_true, temp_pred)\n",
    "\n",
    "    temp_precision = tp / (tp + fp)\n",
    "    precision += temp_precision\n",
    "\n",
    "  precision /= num_classes\n",
    "  return precision"
   ]
  },
  {
   "cell_type": "code",
   "execution_count": 42,
   "metadata": {},
   "outputs": [],
   "source": [
    "y_true = [0, 0, 0, 0, 1, 0, 1,\n",
    "0, 0, 1, 0, 1, 0, 0, 1]"
   ]
  },
  {
   "cell_type": "code",
   "execution_count": 43,
   "metadata": {},
   "outputs": [],
   "source": [
    "y_proba = [0.1, 0.3, 0.2, 0.6, 0.8, 0.05, 0.9, 0.5, 0.3, 0.66, 0.3, 0.2,\n",
    "0.85, 0.15, 0.99]"
   ]
  },
  {
   "cell_type": "code",
   "execution_count": 44,
   "metadata": {},
   "outputs": [
    {
     "data": {
      "text/plain": [
       "0.49882711861432294"
      ]
     },
     "execution_count": 44,
     "metadata": {},
     "output_type": "execute_result"
    }
   ],
   "source": [
    "log_loss(y_true, y_proba)"
   ]
  },
  {
   "cell_type": "code",
   "execution_count": 45,
   "metadata": {},
   "outputs": [
    {
     "data": {
      "text/plain": [
       "0.49882711861432294"
      ]
     },
     "execution_count": 45,
     "metadata": {},
     "output_type": "execute_result"
    }
   ],
   "source": [
    "metrics.log_loss(y_true, y_proba)"
   ]
  },
  {
   "cell_type": "code",
   "execution_count": 46,
   "metadata": {},
   "outputs": [],
   "source": [
    "def micro_precision(y_true, y_pred):\n",
    "  num_classes = len(np.unique(y_true))\n",
    "  tp = 0\n",
    "  fp = 0\n",
    "  for class_ in range(num_classes):\n",
    "    temp_true = [1 if p == class_ else 0 for p in y_true]\n",
    "    temp_pred = [1 if p == class_ else 0 for p in y_pred]\n",
    "\n",
    "    tp += true_positive(temp_true, temp_pred)\n",
    "    fp += false_positive(temp_true, temp_pred)\n",
    "\n",
    "  precision = tp / (tp + fp)\n",
    "  return precision"
   ]
  },
  {
   "cell_type": "code",
   "execution_count": 47,
   "metadata": {},
   "outputs": [],
   "source": [
    "from collections import Counter\n",
    "\n",
    "def weighted_precision(y_true, y_pred):\n",
    "  num_classes = len(np.unique(y_true))\n",
    "  class_counts = Counter(y_true)  # {0:20, 1:15, 2:21}\n",
    "  precision = 0\n",
    "  for class_ in range(num_classes):\n",
    "    temp_true = [1 if p == class_ else 0 for p in y_true]\n",
    "    temp_pred = [1 if p == class_ else 0 for p in y_pred]\n",
    "\n",
    "    tp = true_positive(temp_true, temp_pred)\n",
    "    fp = false_positive(temp_true, temp_pred)\n",
    "        \n",
    "    temp_precision = tp / (tp + fp)\n",
    "    weighted_precision = class_counts[class_] * temp_precision\n",
    "\n",
    "    precision += weighted_precision\n",
    "  \n",
    "  overall_precision = precision / len(y_true)\n",
    "  return overall_precision"
   ]
  },
  {
   "cell_type": "code",
   "execution_count": 48,
   "metadata": {},
   "outputs": [],
   "source": [
    "from collections import Counter\n",
    "import numpy as np\n",
    "\n",
    "def weighted_f1(y_true, y_pred):\n",
    "  num_classes = len(np.unique(y_true))\n",
    "  class_counts = Counter(y_true)  # {0:20, 1:15, 2:21}\n",
    "  f1 = 0\n",
    "  for class_ in range(num_classes):\n",
    "    temp_true = [1 if p == class_ else 0 for p in y_true]\n",
    "    temp_pred = [1 if p == class_ else 0 for p in y_pred]\n",
    "\n",
    "    p = precision(temp_true, temp_pred)\n",
    "    r = recall(temp_true, temp_pred)\n",
    "\n",
    "    if p + r != 0:\n",
    "      temp_f1 = 2 * p * r / (p + r)\n",
    "    else:\n",
    "      temp_f1 = 0\n",
    "    \n",
    "    weighted_f1 = class_counts[class_] * temp_f1\n",
    "    f1 += weighted_f1\n",
    "  \n",
    "  overall_f1 = f1 / len(y_true)\n",
    "  return overall_f1\n",
    "     "
   ]
  },
  {
   "cell_type": "code",
   "execution_count": 49,
   "metadata": {},
   "outputs": [
    {
     "data": {
      "text/plain": [
       "Text(0.5, 57.249999999999986, 'Predicted Labels')"
      ]
     },
     "execution_count": 49,
     "metadata": {},
     "output_type": "execute_result"
    },
    {
     "data": {
      "image/png": "[encoded data removed]",
      "text/plain": [
       "<Figure size 1000x1000 with 1 Axes>"
      ]
     },
     "metadata": {},
     "output_type": "display_data"
    }
   ],
   "source": [
    "import matplotlib.pyplot as plt\n",
    "import seaborn as sns\n",
    "from sklearn import metrics\n",
    "\n",
    "y_true = [0, 1, 2, 0, 1, 2, 0, 2, 2]\n",
    "y_pred = [0, 2, 1, 0, 2, 1, 0, 0, 2]\n",
    "\n",
    "cm = metrics.confusion_matrix(y_true, y_pred)\n",
    "\n",
    "plt.figure(figsize=(10,10))\n",
    "cmap = sns.cubehelix_palette(50, hue=0.05, rot=0, light=0.9, dark=0, as_cmap=True)\n",
    "sns.set(font_scale=2.5)\n",
    "sns.heatmap(cm, annot=True, cmap=cmap, cbar=False)\n",
    "\n",
    "plt.ylabel('Actual Labels', fontsize=20)\n",
    "plt.xlabel('Predicted Labels', fontsize=20)"
   ]
  },
  {
   "cell_type": "code",
   "execution_count": 50,
   "metadata": {},
   "outputs": [],
   "source": [
    "# precision at k, P@k\n",
    "def pk(y_true, y_pred, k):\n",
    "  if k == 0:\n",
    "    return 0\n",
    "\n",
    "  y_pred = y_pred[:k]\n",
    "  pred_set = set(y_pred)\n",
    "  true_set = set(y_true)\n",
    "  common_values = pred_set.intersection(true_set)\n",
    "  return len(common_values) / len(y_pred[:k])"
   ]
  },
  {
   "cell_type": "code",
   "execution_count": 51,
   "metadata": {},
   "outputs": [],
   "source": [
    "\n",
    "# precision at k, P@k\n",
    "def pk(y_true, y_pred, k):\n",
    "  if k == 0:\n",
    "    return 0\n",
    "\n",
    "  y_pred = y_pred[:k]\n",
    "  pred_set = set(y_pred)\n",
    "  true_set = set(y_true)\n",
    "  common_values = pred_set.intersection(true_set)\n",
    "  return len(common_values) / len(y_pred[:k])\n",
    "     \n",
    "\n",
    "# average precision at k, AP@k\n",
    "def apk(y_true, y_pred, k):\n",
    "  pk_values = []\n",
    "  for i in range(1, k+1):\n",
    "    pk_values.append(pk(y_true, y_pred, i))\n",
    "\n",
    "  if len(pk_values) == 0:\n",
    "    return 0\n",
    "  return sum(pk_values) / len(pk_values)\n",
    "     "
   ]
  },
  {
   "cell_type": "code",
   "execution_count": 52,
   "metadata": {},
   "outputs": [],
   "source": [
    "# another version of apk, which the order of prediction matters\n",
    "def apk(actual, predicted, k=10):\n",
    "  if len(predicted) > k:\n",
    "    predicted = predicted[:k]\n",
    "\n",
    "  score = 0.0\n",
    "  num_hits = 0.0\n",
    "\n",
    "  for i, p in enumerate(predicted):\n",
    "    print(\"i \", i, \"p \", p)\n",
    "    if p in actual and p not in predicted[:i]:\n",
    "      print(predicted[:i])\n",
    "      num_hits += 1.0\n",
    "      score += (num_hits / i+1.0)\n",
    "\n",
    "  if not actual:\n",
    "    return 0.0\n",
    "    \n",
    "  return score / min(len(actual), k)\n",
    "     \n",
    "\n",
    "# mean average precision at k, MAP@k\n",
    "def mapk(y_true, y_pred, k):\n",
    "  apk_values = []\n",
    "  for i in range(len(y_true)):\n",
    "    apk_values.append(apk(y_true[i], y_pred[i], k=k))\n",
    "  return sum(apk_values) / len(apk_values)"
   ]
  },
  {
   "cell_type": "code",
   "execution_count": 53,
   "metadata": {},
   "outputs": [],
   "source": [
    "import numpy as np\n",
    "\n",
    "def mean_absolute_error(y_true, y_pred):\n",
    "  error = 0\n",
    "  for yt, yp in zip(y_true, y_pred):\n",
    "    error += np.abss(yt - yp)\n",
    "    \n",
    "  return error / len(y_true)\n",
    "     \n",
    "\n",
    "def mean_squared_error(y_true, y_pred):\n",
    "  error = 0\n",
    "  for yt, yp in zip(y_true, y_pred):\n",
    "    error += (yt - yp) ** 2\n",
    "\n",
    "  return error / len(y_true)\n",
    "     \n",
    "\n",
    "def mean_squared_log_error(y_true, y_pred):\n",
    "  error = 0\n",
    "  for yt, yp in zip(y_true, y_pred):\n",
    "    error += (np.log(1 + yt) - np.log(1 + yp)) ** 2\n",
    "  \n",
    "  return error / len(y_true)\n",
    "     \n",
    "\n",
    "def mean_percentage_error(y_true, y_pred):\n",
    "  error = 0\n",
    "  for yt, yp in zip(y_true, y_pred):\n",
    "    error += (yt - yp) / yt\n",
    "\n",
    "  return error / len(y_true)\n",
    "     \n",
    "\n",
    "def mean_abs_percentage_error(y_true, y_pred):\n",
    "  error = 0\n",
    "  for yt, yp in zip(y_true, y_pred):\n",
    "    error += np.abs((yt - yp) / yt)\n",
    "  \n",
    "  return error / len(y_true)\n",
    "     \n",
    "\n",
    "import numpy as np\n",
    "\n",
    "def r2(y_true, y_pred):\n",
    "  mean_true_value = np.mean(y_true)\n",
    "  numerator = 0\n",
    "  denominator = 0\n",
    "\n",
    "  for yt, yp in zip(y_true, y_pred):\n",
    "    numerator += (yt - yp) ** 2\n",
    "    denominator += (yt - mean_true_value) ** 2\n",
    "  \n",
    "  ratio = numerator / denominator\n",
    "  return 1 - ratio\n",
    "     \n",
    "\n",
    "# quadratic weighted kappa, Cohen's kappa\n",
    "# measures the \"agreement\" between two \"ratings\"\n",
    "# which can be defined as how close these ratings are to each other\n",
    "# suitable for a classification problem with N different classes\n",
    "\n",
    "# over 0.85 is very good\n",
    "\n",
    "from sklearn import metrics\n",
    "y_true = [1, 2, 3, 1, 2, 3, 1, 2, 3]\n",
    "y_pred = [2, 1, 3, 1, 2, 3, 3, 1, 2]\n",
    "\n",
    "metrics.cohen_kappa_score(y_true, y_pred, weights=\"quadratic\")\n",
    "     \n",
    "\n",
    "# Matthew's Correlation Coefficient(MCC)\n",
    "# ranges -1 to 1, 0 is random prediction\n",
    "# can be used for problems where classes are skewed\n",
    "\n",
    "def mcc(y_true, y_pred):\n",
    "  tp = true_positive(y_true, y_pred)\n",
    "  tn = true_negative(y_true, y_pred)\n",
    "  fp = false_positive(y_true, y_pred)\n",
    "  fn = false_negative(y_true, y_pred)\n",
    "\n",
    "  numerator = (tp * tn) - (fp * fn)\n",
    "  denominator = (\n",
    "      (tp + fp) *\n",
    "      (fn + tn) *\n",
    "      (fp + tn) *\n",
    "      (tp + fn)\n",
    "  )\n",
    "  denominator = denominator ** 0.5\n",
    "  return numerator / denominator"
   ]
  },
  {
   "cell_type": "code",
   "execution_count": null,
   "metadata": {},
   "outputs": [],
   "source": []
  }
 ],
 "metadata": {
  "kernelspec": {
   "display_name": "Python 3",
   "language": "python",
   "name": "python3"
  },
  "language_info": {
   "codemirror_mode": {
    "name": "ipython",
    "version": 3
   },
   "file_extension": ".py",
   "mimetype": "text/x-python",
   "name": "python",
   "nbconvert_exporter": "python",
   "pygments_lexer": "ipython3",
   "version": "3.10.12"
  }
 },
 "nbformat": 4,
 "nbformat_minor": 2
}
